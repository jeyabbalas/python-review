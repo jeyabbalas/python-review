{
 "cells": [
  {
   "cell_type": "markdown",
   "metadata": {},
   "source": [
    "# Experimenting with Pandas Loops\n",
    "\n",
    "In this notebook, I experimented with different ways of implementing loops to modify a Pandas dataframe. I evaluated the time taken by each. I wanted to identify the most efficient way of iterating elements in a dataframe."
   ]
  },
  {
   "cell_type": "code",
   "execution_count": 1,
   "metadata": {},
   "outputs": [],
   "source": [
    "import math\n",
    "import numpy as np\n",
    "import pandas as pd"
   ]
  },
  {
   "cell_type": "markdown",
   "metadata": {},
   "source": [
    "## Download data\n",
    "\n",
    "As an example, I downloadeded the Premier League football results dataset for 10 seasons from 2010-19."
   ]
  },
  {
   "cell_type": "code",
   "execution_count": 3,
   "metadata": {},
   "outputs": [
    {
     "name": "stdout",
     "output_type": "stream",
     "text": [
      "mkdir: data: File exists\n",
      "\n",
      "\n",
      "\n",
      "\n",
      "\n",
      "\n",
      "\n",
      "\n",
      "\n",
      "\n"
     ]
    }
   ],
   "source": [
    "# Downloading the Premier League datasets\n",
    "!mkdir data\n",
    "!curl -o data/pl_results_19_20.csv http://www.football-data.co.uk/mmz4281/1920/E0.csv\n",
    "!curl -o data/pl_results_18_19.csv http://www.football-data.co.uk/mmz4281/1819/E0.csv\n",
    "!curl -o data/pl_results_17_18.csv http://www.football-data.co.uk/mmz4281/1718/E0.csv\n",
    "!curl -o data/pl_results_16_17.csv http://www.football-data.co.uk/mmz4281/1617/E0.csv\n",
    "!curl -o data/pl_results_15_16.csv http://www.football-data.co.uk/mmz4281/1516/E0.csv\n",
    "!curl -o data/pl_results_14_15.csv http://www.football-data.co.uk/mmz4281/1415/E0.csv\n",
    "!curl -o data/pl_results_13_14.csv http://www.football-data.co.uk/mmz4281/1314/E0.csv\n",
    "!curl -o data/pl_results_12_13.csv http://www.football-data.co.uk/mmz4281/1213/E0.csv\n",
    "!curl -o data/pl_results_11_12.csv http://www.football-data.co.uk/mmz4281/1112/E0.csv\n",
    "!curl -o data/pl_results_10_11.csv http://www.football-data.co.uk/mmz4281/1011/E0.csv"
   ]
  },
  {
   "cell_type": "markdown",
   "metadata": {},
   "source": [
    "## Import the dataset\n",
    "\n",
    "There are 10 files, each containing the football results from a season in the decade. I append each new season data to the original data"
   ]
  },
  {
   "cell_type": "code",
   "execution_count": 12,
   "metadata": {},
   "outputs": [],
   "source": [
    "# Create pandas dataframe for all Premier League games over the decade 2010-19\n",
    "\n",
    "pl_results_10_19 = pd.read_csv('data/pl_results_19_20.csv', parse_dates=['Date'], dayfirst=True)\n",
    "\n",
    "for i in range(11,20):\n",
    "    fname = \"data/pl_results_\"+str(i)+\"_\"+str(i+1)+\".csv\"\n",
    "    temp = pd.read_csv(fname, parse_dates=['Date'], dayfirst=True)\n",
    "    pl_results_10_19 = pl_results_10_19.append(temp)\n"
   ]
  },
  {
   "cell_type": "code",
   "execution_count": 13,
   "metadata": {},
   "outputs": [
    {
     "data": {
      "text/plain": [
       "(3381, 139)"
      ]
     },
     "execution_count": 13,
     "metadata": {},
     "output_type": "execute_result"
    }
   ],
   "source": [
    "pl_results_10_19.shape"
   ]
  },
  {
   "cell_type": "code",
   "execution_count": 14,
   "metadata": {},
   "outputs": [
    {
     "data": {
      "text/html": [
       "<div>\n",
       "<style scoped>\n",
       "    .dataframe tbody tr th:only-of-type {\n",
       "        vertical-align: middle;\n",
       "    }\n",
       "\n",
       "    .dataframe tbody tr th {\n",
       "        vertical-align: top;\n",
       "    }\n",
       "\n",
       "    .dataframe thead th {\n",
       "        text-align: right;\n",
       "    }\n",
       "</style>\n",
       "<table border=\"1\" class=\"dataframe\">\n",
       "  <thead>\n",
       "    <tr style=\"text-align: right;\">\n",
       "      <th></th>\n",
       "      <th>AC</th>\n",
       "      <th>AF</th>\n",
       "      <th>AHCh</th>\n",
       "      <th>AHh</th>\n",
       "      <th>AR</th>\n",
       "      <th>AS</th>\n",
       "      <th>AST</th>\n",
       "      <th>AY</th>\n",
       "      <th>Avg&lt;2.5</th>\n",
       "      <th>Avg&gt;2.5</th>\n",
       "      <th>...</th>\n",
       "      <th>VCCD</th>\n",
       "      <th>VCCH</th>\n",
       "      <th>VCD</th>\n",
       "      <th>VCH</th>\n",
       "      <th>WHA</th>\n",
       "      <th>WHCA</th>\n",
       "      <th>WHCD</th>\n",
       "      <th>WHCH</th>\n",
       "      <th>WHD</th>\n",
       "      <th>WHH</th>\n",
       "    </tr>\n",
       "  </thead>\n",
       "  <tbody>\n",
       "    <tr>\n",
       "      <th>0</th>\n",
       "      <td>2.0</td>\n",
       "      <td>9.0</td>\n",
       "      <td>-2.25</td>\n",
       "      <td>-2.25</td>\n",
       "      <td>0.0</td>\n",
       "      <td>12.0</td>\n",
       "      <td>5.0</td>\n",
       "      <td>2.0</td>\n",
       "      <td>2.92</td>\n",
       "      <td>1.41</td>\n",
       "      <td>...</td>\n",
       "      <td>9.50</td>\n",
       "      <td>1.14</td>\n",
       "      <td>9.5</td>\n",
       "      <td>1.14</td>\n",
       "      <td>21.00</td>\n",
       "      <td>21.00</td>\n",
       "      <td>9.5</td>\n",
       "      <td>1.11</td>\n",
       "      <td>8.5</td>\n",
       "      <td>1.12</td>\n",
       "    </tr>\n",
       "    <tr>\n",
       "      <th>1</th>\n",
       "      <td>1.0</td>\n",
       "      <td>13.0</td>\n",
       "      <td>1.75</td>\n",
       "      <td>1.75</td>\n",
       "      <td>0.0</td>\n",
       "      <td>14.0</td>\n",
       "      <td>9.0</td>\n",
       "      <td>2.0</td>\n",
       "      <td>2.65</td>\n",
       "      <td>1.48</td>\n",
       "      <td>...</td>\n",
       "      <td>6.50</td>\n",
       "      <td>12.00</td>\n",
       "      <td>6.5</td>\n",
       "      <td>12.00</td>\n",
       "      <td>1.24</td>\n",
       "      <td>1.24</td>\n",
       "      <td>6.5</td>\n",
       "      <td>11.00</td>\n",
       "      <td>6.0</td>\n",
       "      <td>13.00</td>\n",
       "    </tr>\n",
       "    <tr>\n",
       "      <th>2</th>\n",
       "      <td>4.0</td>\n",
       "      <td>19.0</td>\n",
       "      <td>-0.50</td>\n",
       "      <td>-0.50</td>\n",
       "      <td>0.0</td>\n",
       "      <td>8.0</td>\n",
       "      <td>3.0</td>\n",
       "      <td>1.0</td>\n",
       "      <td>1.93</td>\n",
       "      <td>1.90</td>\n",
       "      <td>...</td>\n",
       "      <td>3.60</td>\n",
       "      <td>2.00</td>\n",
       "      <td>3.6</td>\n",
       "      <td>2.00</td>\n",
       "      <td>3.80</td>\n",
       "      <td>3.90</td>\n",
       "      <td>3.6</td>\n",
       "      <td>1.95</td>\n",
       "      <td>3.5</td>\n",
       "      <td>2.00</td>\n",
       "    </tr>\n",
       "    <tr>\n",
       "      <th>3</th>\n",
       "      <td>7.0</td>\n",
       "      <td>12.0</td>\n",
       "      <td>0.00</td>\n",
       "      <td>0.00</td>\n",
       "      <td>0.0</td>\n",
       "      <td>11.0</td>\n",
       "      <td>3.0</td>\n",
       "      <td>0.0</td>\n",
       "      <td>1.73</td>\n",
       "      <td>2.12</td>\n",
       "      <td>...</td>\n",
       "      <td>3.25</td>\n",
       "      <td>2.70</td>\n",
       "      <td>3.3</td>\n",
       "      <td>2.70</td>\n",
       "      <td>2.75</td>\n",
       "      <td>2.80</td>\n",
       "      <td>3.2</td>\n",
       "      <td>2.62</td>\n",
       "      <td>3.2</td>\n",
       "      <td>2.70</td>\n",
       "    </tr>\n",
       "    <tr>\n",
       "      <th>4</th>\n",
       "      <td>2.0</td>\n",
       "      <td>14.0</td>\n",
       "      <td>0.25</td>\n",
       "      <td>0.25</td>\n",
       "      <td>1.0</td>\n",
       "      <td>10.0</td>\n",
       "      <td>3.0</td>\n",
       "      <td>1.0</td>\n",
       "      <td>1.70</td>\n",
       "      <td>2.18</td>\n",
       "      <td>...</td>\n",
       "      <td>3.30</td>\n",
       "      <td>3.40</td>\n",
       "      <td>3.3</td>\n",
       "      <td>3.20</td>\n",
       "      <td>2.35</td>\n",
       "      <td>2.25</td>\n",
       "      <td>3.3</td>\n",
       "      <td>3.30</td>\n",
       "      <td>3.3</td>\n",
       "      <td>3.10</td>\n",
       "    </tr>\n",
       "  </tbody>\n",
       "</table>\n",
       "<p>5 rows × 139 columns</p>\n",
       "</div>"
      ],
      "text/plain": [
       "    AC    AF  AHCh   AHh   AR    AS  AST   AY  Avg<2.5  Avg>2.5  ...  VCCD  \\\n",
       "0  2.0   9.0 -2.25 -2.25  0.0  12.0  5.0  2.0     2.92     1.41  ...  9.50   \n",
       "1  1.0  13.0  1.75  1.75  0.0  14.0  9.0  2.0     2.65     1.48  ...  6.50   \n",
       "2  4.0  19.0 -0.50 -0.50  0.0   8.0  3.0  1.0     1.93     1.90  ...  3.60   \n",
       "3  7.0  12.0  0.00  0.00  0.0  11.0  3.0  0.0     1.73     2.12  ...  3.25   \n",
       "4  2.0  14.0  0.25  0.25  1.0  10.0  3.0  1.0     1.70     2.18  ...  3.30   \n",
       "\n",
       "    VCCH  VCD    VCH    WHA   WHCA  WHCD   WHCH  WHD    WHH  \n",
       "0   1.14  9.5   1.14  21.00  21.00   9.5   1.11  8.5   1.12  \n",
       "1  12.00  6.5  12.00   1.24   1.24   6.5  11.00  6.0  13.00  \n",
       "2   2.00  3.6   2.00   3.80   3.90   3.6   1.95  3.5   2.00  \n",
       "3   2.70  3.3   2.70   2.75   2.80   3.2   2.62  3.2   2.70  \n",
       "4   3.40  3.3   3.20   2.35   2.25   3.3   3.30  3.3   3.10  \n",
       "\n",
       "[5 rows x 139 columns]"
      ]
     },
     "execution_count": 14,
     "metadata": {},
     "output_type": "execute_result"
    }
   ],
   "source": [
    "pl_results_10_19.head()"
   ]
  },
  {
   "cell_type": "code",
   "execution_count": 19,
   "metadata": {},
   "outputs": [
    {
     "data": {
      "text/plain": [
       "array(['Liverpool', 'West Ham', 'Bournemouth', 'Burnley',\n",
       "       'Crystal Palace', 'Watford', 'Tottenham', 'Leicester', 'Newcastle',\n",
       "       'Man United', 'Arsenal', 'Aston Villa', 'Brighton', 'Everton',\n",
       "       'Norwich', 'Southampton', 'Man City', 'Sheffield United',\n",
       "       'Chelsea', 'Wolves', 'Blackburn', 'Fulham', 'QPR', 'Wigan',\n",
       "       'Stoke', 'West Brom', 'Sunderland', 'Swansea', 'Bolton', 'Reading',\n",
       "       'Hull', 'Cardiff', nan, 'Middlesbrough', 'Huddersfield'],\n",
       "      dtype=object)"
      ]
     },
     "execution_count": 19,
     "metadata": {},
     "output_type": "execute_result"
    }
   ],
   "source": [
    "pl_results_10_19['HomeTeam'].unique()"
   ]
  },
  {
   "cell_type": "markdown",
   "metadata": {},
   "source": [
    "## 1. Standard loop\n",
    "In this implementation of loop, I use the simple Pandas way of iterating the indexes of each row of the dataframe (using <em>iloc</em>). \n",
    "\n",
    "To evaluate the time taken, I use the built-in magic function, <em>timeit</em>. To use magic functions, start with one percentage sign, followed by 'timeit', followed by the line of code to evaluate. Shown below.\n",
    "> %timeit 5+2\n",
    "\n",
    "To use magic function over the entire cell, start with two percentage signs, followed by 'timeit', followed by all the code to evaluate.\n",
    ">%%timeit\n",
    ">Code block\n",
    "\n",
    "The process appears to be very slow. It takes, on average, 1 minute and 41 seconds per loop. "
   ]
  },
  {
   "cell_type": "code",
   "execution_count": 38,
   "metadata": {},
   "outputs": [],
   "source": [
    "# Creating draw result column using standard loop\n",
    "def standard_loop(results_table, team_name):\n",
    "    results_table['Draw'] = ''\n",
    "    \n",
    "    for i in range(0,len(results_table)):\n",
    "        home_team = (results_table.iloc[i,])['HomeTeam']\n",
    "        away_team = (results_table.iloc[i,])['AwayTeam']\n",
    "        full_time_result = (results_table.iloc[i,])['FTR']\n",
    "        \n",
    "        if (pd.isnull(home_team) or pd.isnull(away_team) or pd.isnull(full_time_result)):\n",
    "            results_table['Draw'].iloc[i] = 'NA'\n",
    "            continue\n",
    "        \n",
    "        if ((home_team == team_name or away_team == team_name) and full_time_result == 'D'):\n",
    "            results_table['Draw'].iloc[i] = 'Draw'\n",
    "        elif ((home_team == team_name or away_team == team_name) and full_time_result != 'D'):\n",
    "            results_table['Draw'].iloc[i] = 'Result'\n",
    "        else:\n",
    "            results_table['Draw'].iloc[i] = 'NA'\n",
    "    "
   ]
  },
  {
   "cell_type": "code",
   "execution_count": 42,
   "metadata": {},
   "outputs": [
    {
     "name": "stdout",
     "output_type": "stream",
     "text": [
      "1min 41s ± 321 ms per loop (mean ± std. dev. of 7 runs, 1 loop each)\n"
     ]
    }
   ],
   "source": [
    "%%timeit\n",
    "standard_loop(pl_results_10_19,'Chelsea');"
   ]
  },
  {
   "cell_type": "markdown",
   "metadata": {},
   "source": [
    "## 2. Iterrows loop\n",
    "Instead of iterating indices and using iloc to get a row in the dataframe, I use the <em>iterrows()</em> function to iterate the rows of the dataframe.\n",
    "\n",
    "I did not notice any improvement in performance. Average time per loop was still 1 minute and 40 seconds."
   ]
  },
  {
   "cell_type": "code",
   "execution_count": 45,
   "metadata": {},
   "outputs": [],
   "source": [
    "# Creating draw result column using pandas iterrows\n",
    "def iterrows_loop(results_table, team_name):\n",
    "    results_table['Draw'] = ''\n",
    "    \n",
    "    for index, row in results_table.iterrows():\n",
    "        home_team = row['HomeTeam']\n",
    "        away_team = row['AwayTeam']\n",
    "        full_time_result = row['FTR']\n",
    "        \n",
    "        if (pd.isnull(home_team) or pd.isnull(away_team) or pd.isnull(full_time_result)):\n",
    "            results_table['Draw'].iloc[index] = 'NA'\n",
    "            continue\n",
    "        \n",
    "        if ((home_team == team_name or away_team == team_name) and full_time_result == 'D'):\n",
    "            results_table['Draw'].iloc[index] = 'Draw'\n",
    "        elif ((home_team == team_name or away_team == team_name) and full_time_result != 'D'):\n",
    "            results_table['Draw'].iloc[index] = 'Result'\n",
    "        else:\n",
    "            results_table['Draw'].iloc[index] = 'NA'\n",
    "    "
   ]
  },
  {
   "cell_type": "code",
   "execution_count": 46,
   "metadata": {},
   "outputs": [
    {
     "name": "stdout",
     "output_type": "stream",
     "text": [
      "1min 40s ± 1.6 s per loop (mean ± std. dev. of 7 runs, 1 loop each)\n"
     ]
    }
   ],
   "source": [
    "%%timeit\n",
    "iterrows_loop(pl_results_10_19,'Chelsea');"
   ]
  },
  {
   "cell_type": "markdown",
   "metadata": {},
   "source": [
    "## 3. Iterrows loop appending to a list\n",
    "I made a slight change to the previous code. Instead of assigning new values directly to the Pandas Series, I append them in a list, and create a Series at the very end as I add the column to the dataframe.\n",
    "\n",
    "This led to a significant gain in performance. On average, each loop took only 476 ms."
   ]
  },
  {
   "cell_type": "code",
   "execution_count": 47,
   "metadata": {},
   "outputs": [],
   "source": [
    "# Re-testing iterrows but appending list instead of Pandas Series\n",
    "def iterrows_loop2(results_table, team_name):\n",
    "    draw_or_result = []\n",
    "    \n",
    "    for index, row in results_table.iterrows():\n",
    "        home_team = row['HomeTeam']\n",
    "        away_team = row['AwayTeam']\n",
    "        full_time_result = row['FTR']\n",
    "        \n",
    "        if (pd.isnull(home_team) or pd.isnull(away_team) or pd.isnull(full_time_result)):\n",
    "            draw_or_result.append('NA')\n",
    "            continue\n",
    "        \n",
    "        if ((home_team == team_name or away_team == team_name) and full_time_result == 'D'):\n",
    "            draw_or_result.append('Draw')\n",
    "        elif ((home_team == team_name or away_team == team_name) and full_time_result != 'D'):\n",
    "            draw_or_result.append('Result')\n",
    "        else:\n",
    "            draw_or_result.append('NA')\n",
    "    \n",
    "    results_table['Draw'] = draw_or_result"
   ]
  },
  {
   "cell_type": "code",
   "execution_count": 48,
   "metadata": {},
   "outputs": [
    {
     "name": "stdout",
     "output_type": "stream",
     "text": [
      "476 ms ± 13.9 ms per loop (mean ± std. dev. of 7 runs, 1 loop each)\n"
     ]
    }
   ],
   "source": [
    "%%timeit\n",
    "iterrows_loop2(pl_results_10_19,'Chelsea');"
   ]
  },
  {
   "cell_type": "markdown",
   "metadata": {},
   "source": [
    "## 4. Itertuples\n",
    "\n",
    "Same as before but instead of using iterrows, I use iterruples to iterate the rows in the dataframe.\n",
    "\n",
    "This again led to a significant gain in performance. On average, a loop ran for only 76.9 ms."
   ]
  },
  {
   "cell_type": "code",
   "execution_count": 51,
   "metadata": {},
   "outputs": [],
   "source": [
    "# Testing itertuples instead of iterrows\n",
    "def itertuples_loop(results_table, team_name):\n",
    "    draw_or_result = []\n",
    "    \n",
    "    for row in results_table.itertuples():\n",
    "        home_team = row.HomeTeam\n",
    "        away_team = row.AwayTeam\n",
    "        full_time_result = row.FTR\n",
    "        \n",
    "        if (pd.isnull(home_team) or pd.isnull(away_team) or pd.isnull(full_time_result)):\n",
    "            draw_or_result.append('NA')\n",
    "            continue\n",
    "        \n",
    "        if ((home_team == team_name or away_team == team_name) and full_time_result == 'D'):\n",
    "            draw_or_result.append('Draw')\n",
    "        elif ((home_team == team_name or away_team == team_name) and full_time_result != 'D'):\n",
    "            draw_or_result.append('Result')\n",
    "        else:\n",
    "            draw_or_result.append('NA')\n",
    "    \n",
    "    results_table['Draw'] = draw_or_result"
   ]
  },
  {
   "cell_type": "code",
   "execution_count": 52,
   "metadata": {},
   "outputs": [
    {
     "name": "stdout",
     "output_type": "stream",
     "text": [
      "76.9 ms ± 867 µs per loop (mean ± std. dev. of 7 runs, 10 loops each)\n"
     ]
    }
   ],
   "source": [
    "%%timeit\n",
    "itertuples_loop(pl_results_10_19,'Chelsea');"
   ]
  },
  {
   "cell_type": "markdown",
   "metadata": {},
   "source": [
    "## 5. Apply with lambda function\n",
    "\n",
    "In this method, I use the dataframe's <em>apply</em> function. I create a lambda function that specifies the function to be done at each row. The <em>apply</em> function applies the lambda function to all rows of the dataframe.\n",
    "\n",
    "This method was much faster than iterrows but slower than itertuples. On average, a loop ran for 154 ms."
   ]
  },
  {
   "cell_type": "code",
   "execution_count": 54,
   "metadata": {},
   "outputs": [],
   "source": [
    "# Testing apply with lambda funtion\n",
    "def lambda_row_function(team_name, home_team, away_team, full_time_result):\n",
    "    if (pd.isnull(home_team) or pd.isnull(away_team) or pd.isnull(full_time_result)):\n",
    "        return 'NA'\n",
    "        \n",
    "    if ((home_team == team_name or away_team == team_name) and full_time_result == 'D'):\n",
    "        return 'Draw'\n",
    "    elif ((home_team == team_name or away_team == team_name) and full_time_result != 'D'):\n",
    "        return 'Result'\n",
    "    else:\n",
    "        return 'NA'"
   ]
  },
  {
   "cell_type": "code",
   "execution_count": 56,
   "metadata": {},
   "outputs": [
    {
     "name": "stdout",
     "output_type": "stream",
     "text": [
      "154 ms ± 742 µs per loop (mean ± std. dev. of 7 runs, 10 loops each)\n"
     ]
    }
   ],
   "source": [
    "%%timeit\n",
    "pl_results_10_19['Draw'] = pl_results_10_19.apply(lambda row: lambda_row_function(\n",
    "    'Chelsea', row['HomeTeam'], row['AwayTeam'], row['FTR']), axis=1)"
   ]
  },
  {
   "cell_type": "markdown",
   "metadata": {},
   "source": [
    "## 6. Pandas vectorization\n",
    "\n",
    "I converted the function into a vector operation.\n",
    "\n",
    "This led to a significant improvement in speed. A loop only took 8.34 ms."
   ]
  },
  {
   "cell_type": "code",
   "execution_count": 64,
   "metadata": {},
   "outputs": [],
   "source": [
    "# Testing Pandas vectorization\n",
    "def vector_function(team_name, home_team, away_team, full_time_result):\n",
    "    pl_results_10_19['Draw'] = 'NA'\n",
    "    pl_results_10_19.loc[(((home_team==team_name) | (away_team==team_name)) & (full_time_result=='D')),'Draw'] = 'Draw'\n",
    "    pl_results_10_19.loc[(((home_team==team_name) | (away_team==team_name)) & (full_time_result!='D')),'Draw'] = 'Result'"
   ]
  },
  {
   "cell_type": "code",
   "execution_count": 66,
   "metadata": {},
   "outputs": [
    {
     "name": "stdout",
     "output_type": "stream",
     "text": [
      "8.34 ms ± 71.5 µs per loop (mean ± std. dev. of 7 runs, 100 loops each)\n"
     ]
    }
   ],
   "source": [
    "%%timeit\n",
    "pl_results_10_19['Draw'] = vector_function('Chelsea',pl_results_10_19['HomeTeam'],\n",
    "                                          pl_results_10_19['AwayTeam'],pl_results_10_19['FTR'])"
   ]
  },
  {
   "cell_type": "markdown",
   "metadata": {},
   "source": [
    "## 7. Numpy vectorization\n",
    "\n",
    "I made a small change to the previous code to operate on numpy vectors instead of Pandas Series.\n",
    "\n",
    "Again, this led to a significant gain in speed. A loop only took 2.56 ms."
   ]
  },
  {
   "cell_type": "code",
   "execution_count": 68,
   "metadata": {},
   "outputs": [],
   "source": [
    "# Testing numpy vectorization"
   ]
  },
  {
   "cell_type": "code",
   "execution_count": 69,
   "metadata": {},
   "outputs": [
    {
     "name": "stdout",
     "output_type": "stream",
     "text": [
      "2.56 ms ± 12.7 µs per loop (mean ± std. dev. of 7 runs, 100 loops each)\n"
     ]
    }
   ],
   "source": [
    "%%timeit\n",
    "pl_results_10_19['Draw'] = vector_function('Chelsea',pl_results_10_19['HomeTeam'].values,\n",
    "                                          pl_results_10_19['AwayTeam'].values,pl_results_10_19['FTR'].values)"
   ]
  },
  {
   "cell_type": "markdown",
   "metadata": {},
   "source": []
  },
  {
   "cell_type": "markdown",
   "metadata": {},
   "source": [
    "## Conclusion\n",
    "The various implemented methods and the average time taken for a single loop by each method is tabulated below.\n",
    "\n",
    "| Method                                                 | Speed per loop (secs per loop) |\n",
    "| :----------------------------------------------------- | ------------------------------ |\n",
    "| Standard loop, direct assignment to dataframe          | 101                            |\n",
    "| Iterrows loop, direct assignment to dataframe          | 100                            |\n",
    "| Iterrows loop, list assignment to dataframe            | 0.47600                        |\n",
    "| Itertuples loop, list assignment to dataframe          | 0.07690                        |\n",
    "| Dataframe apply with lambda function                   | 0.15400                        |\n",
    "| Vectorized pandas                                      | 0.00834                        |\n",
    "| Vectorized numpy                                       | 0.00256                        |\n",
    "\n",
    "The order of preference of implementation of loops appears to be— \n",
    "1. Numpy vectorization \n",
    "2. Pandas vectorization\n",
    "3. Itertuples\n",
    "4. Apply with lambda function\n",
    "5. Iterrows\n",
    "6. Standard loop\n",
    "\n",
    "Also, there is a significant gain in performance when list is appended and then converted into a Series at the end of all appends. This is prefereable to assigning values to the Pandas Series directly."
   ]
  }
 ],
 "metadata": {
  "kernelspec": {
   "display_name": "Python 3",
   "language": "python",
   "name": "python3"
  },
  "language_info": {
   "codemirror_mode": {
    "name": "ipython",
    "version": 3
   },
   "file_extension": ".py",
   "mimetype": "text/x-python",
   "name": "python",
   "nbconvert_exporter": "python",
   "pygments_lexer": "ipython3",
   "version": "3.7.3"
  }
 },
 "nbformat": 4,
 "nbformat_minor": 2
}
